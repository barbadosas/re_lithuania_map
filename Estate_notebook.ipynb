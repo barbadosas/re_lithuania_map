{
 "metadata": {
  "language_info": {
   "codemirror_mode": {
    "name": "ipython",
    "version": 3
   },
   "file_extension": ".py",
   "mimetype": "text/x-python",
   "name": "python",
   "nbconvert_exporter": "python",
   "pygments_lexer": "ipython3",
   "version": "3.8.6-final"
  },
  "orig_nbformat": 2,
  "kernelspec": {
   "name": "python3",
   "display_name": "Python 3.8.6 64-bit",
   "metadata": {
    "interpreter": {
     "hash": "1eed66a0a49696efc475effa10e8261ef8893e63f1464a62eee1f8a70e886d36"
    }
   }
  }
 },
 "nbformat": 4,
 "nbformat_minor": 2,
 "cells": [
  {
   "cell_type": "code",
   "execution_count": 18,
   "metadata": {},
   "outputs": [],
   "source": [
    "import json"
   ]
  },
  {
   "cell_type": "code",
   "execution_count": 52,
   "metadata": {},
   "outputs": [],
   "source": [
    "lst = []\n",
    "\n",
    "def main():\n",
    "\tdata = [l.split(\",\") for l in open(\"Aruodo_data.txt\",encoding='utf8').read().split(\"\\n\")]\n",
    "\tfor district in data:\n",
    "\t\tx = int(district[1])\n",
    "\t\ty = int(district[2])\n",
    "\t\tif x > y:\n",
    "\t\t\tlst.append(get_color_red(int(district[1]) + int(district[2])))\n",
    "\t\telse:\n",
    "\t\t\tlst.append(get_color_green(int(district[1]) + int(district[2])))\n",
    "def get_color_red(length):\n",
    "\tratio = max(min(length / 500, 1), 0)\n",
    "\tr = round(240 - ratio * 128)\n",
    "\tgb = round(255 - ratio * 255)\n",
    "\treturn f\"rgb({r}, {gb}, {gb}, 1)\"\n",
    "\n",
    "def get_color_green(length):\n",
    "\tratio = max(min(length / 700, 1), 0)\n",
    "\tg = round(255 - ratio * 150)\n",
    "\trb = round(255 - ratio * 255)\n",
    "\treturn f\"rgb({rb}, {g}, {rb}, 1)\"\n",
    "\n",
    "main()"
   ]
  },
  {
   "cell_type": "code",
   "execution_count": 53,
   "metadata": {},
   "outputs": [],
   "source": [
    "#Add coloring\n",
    "geo_file = json.load(open('lithuania.geojson', encoding='utf8'))\n",
    "\n",
    "for x in range(len(geo_file['features'])):\n",
    "    geo_file['features'][x]['properties']['fill'] = lst[x]\n"
   ]
  },
  {
   "cell_type": "code",
   "execution_count": 54,
   "metadata": {},
   "outputs": [],
   "source": [
    "#Save to geojson\n",
    "with open('lithuania_estate.geojson', 'w') as f:\n",
    "    json.dump(geo_file, f)"
   ]
  },
  {
   "cell_type": "code",
   "execution_count": null,
   "metadata": {},
   "outputs": [],
   "source": []
  }
 ]
}